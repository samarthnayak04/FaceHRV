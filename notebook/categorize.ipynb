{
 "cells": [
  {
   "cell_type": "code",
   "execution_count": 7,
   "metadata": {},
   "outputs": [
    {
     "name": "stdout",
     "output_type": "stream",
     "text": [
      "Index(['27.378824344769527', '27.808425590895844', 'calm'], dtype='object')\n"
     ]
    }
   ],
   "source": [
    "\n",
    "import pandas as  pd\n",
    "df = pd.read_csv('C:/Users/sam/CODEs/t4/hrv_stress_data.csv')\n",
    "print(df.columns)\n",
    "df.columns = ['RMSSD', 'SDNN', 'stressMetric']\n",
    "df['stressMetric'] = df['stressMetric'].map({'stress': 1, 'calm': 0})\n",
    "df.to_csv('C:/Users/sam/CODEs/t4/hrv_stress_data.csv', index=False)"
   ]
  },
  {
   "cell_type": "code",
   "execution_count": 10,
   "metadata": {},
   "outputs": [
    {
     "name": "stdout",
     "output_type": "stream",
     "text": [
      "Index(['RMSSD', 'SDNN', 'stressMetric'], dtype='object')\n"
     ]
    }
   ],
   "source": [
    "\n",
    "import pandas as  pd\n",
    "d = pd.read_csv('C:/Users/sam/CODEs/t4/synthetic_hrv_data.csv')\n",
    "print(d.columns)\n",
    "\n",
    "d['stressMetric'] = df['stressMetric'].map({'stress': 1, 'calm': 0})\n",
    "d.to_csv('C:/Users/sam/CODEs/t4/synthetic_hrv_data.csv', index=False)"
   ]
  },
  {
   "cell_type": "code",
   "execution_count": 14,
   "metadata": {},
   "outputs": [
    {
     "name": "stdout",
     "output_type": "stream",
     "text": [
      "Initial Data:\n",
      "       RMSSD       SDNN  stressMetric\n",
      "0  31.575893  23.522104             0\n",
      "1  31.217815  27.676007             0\n",
      "2  29.334901  26.983305             1\n",
      "3  34.888455  24.671232             0\n",
      "4  38.836114  29.538552             0\n",
      "\n",
      "Original file has been modified and saved.\n"
     ]
    }
   ],
   "source": [
    "import pandas as pd\n",
    "# Load the existing HRV data CSV file\n",
    "file_path = 'C:/Users/sam/CODEs/t4/hrv_stress_data.csv'  \n",
    "data = pd.read_csv(file_path)\n",
    "\n",
    "# Define the RMSSD threshold\n",
    "rmssd_threshold = 30\n",
    "\n",
    "data['stressMetric'] = data['RMSSD'].apply(lambda x: 1 if x < rmssd_threshold else 0)\n",
    "data.to_csv(file_path, index=False)\n",
    "\n",
    "print(\"\\nOriginal file has been modified and saved.\")\n"
   ]
  },
  {
   "cell_type": "code",
   "execution_count": 21,
   "metadata": {},
   "outputs": [],
   "source": [
    "import pandas as pd\n",
    "\n",
    "file_path = 'C:/Users/sam/CODEs/t4/synthetic_hrv_data.csv'  \n",
    "data = pd.read_csv(file_path)\n",
    "\n",
    "data['RMSSD'] = pd.to_numeric(data['RMSSD'], errors='coerce')\n",
    "\n",
    "rmssd_threshold = 30\n",
    "\n",
    "data['stressMetric'] = data['RMSSD'].apply(lambda x: 1 if x < rmssd_threshold else 0)\n",
    "\n",
    "label_counts = data['stressMetric'].value_counts()\n",
    "\n",
    "data.to_csv(file_path, index=False)\n",
    "\n"
   ]
  }
 ],
 "metadata": {
  "kernelspec": {
   "display_name": "base",
   "language": "python",
   "name": "python3"
  },
  "language_info": {
   "codemirror_mode": {
    "name": "ipython",
    "version": 3
   },
   "file_extension": ".py",
   "mimetype": "text/x-python",
   "name": "python",
   "nbconvert_exporter": "python",
   "pygments_lexer": "ipython3",
   "version": "3.12.4"
  }
 },
 "nbformat": 4,
 "nbformat_minor": 2
}
